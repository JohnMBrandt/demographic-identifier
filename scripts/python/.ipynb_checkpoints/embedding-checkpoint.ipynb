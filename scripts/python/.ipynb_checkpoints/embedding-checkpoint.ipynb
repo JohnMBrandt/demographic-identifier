{
 "cells": [
  {
   "cell_type": "code",
   "execution_count": 19,
   "metadata": {},
   "outputs": [],
   "source": [
    "import os\n",
    "import numpy as np"
   ]
  },
  {
   "cell_type": "code",
   "execution_count": 6,
   "metadata": {},
   "outputs": [],
   "source": [
    "data = (\"../../data/muse/en/tweets_en.txt\")"
   ]
  },
  {
   "cell_type": "code",
   "execution_count": 8,
   "metadata": {},
   "outputs": [],
   "source": [
    "tweets = []\n",
    "for line in open(data):\n",
    "    tweets.append(line)"
   ]
  },
  {
   "cell_type": "code",
   "execution_count": 66,
   "metadata": {},
   "outputs": [
    {
     "name": "stdout",
     "output_type": "stream",
     "text": [
      "0\n",
      "20000\n",
      "40000\n",
      "60000\n",
      "80000\n",
      "100000\n",
      "120000\n",
      "140000\n",
      "160000\n",
      "180000\n",
      "200000\n"
     ]
    }
   ],
   "source": [
    "embeddings_index = {}\n",
    "f = open(\"../../data/muse/wiki.multi.en.vec\")\n",
    "for i, line in enumerate(f):\n",
    "    if i % 20000 == 0:\n",
    "        print(i)\n",
    "    values = line.strip().split()\n",
    "    if i != 168423:\n",
    "        word = values[0]\n",
    "        coefs = np.asarray(values[1:], dtype = 'float32')\n",
    "        embeddings_index[word] = coefs\n",
    "f.close()"
   ]
  },
  {
   "cell_type": "code",
   "execution_count": 62,
   "metadata": {},
   "outputs": [],
   "source": [
    "with open(\"../../data/muse/wiki.multi.en.vec\") as myfile:\n",
    "    head = [next(myfile) for x in range(168422, 168424)]"
   ]
  },
  {
   "cell_type": "code",
   "execution_count": 72,
   "metadata": {},
   "outputs": [
    {
     "name": "stdout",
     "output_type": "stream",
     "text": [
      "['forestlandscape', 'restoration', 'can', 'help', 'achieve', 'food', 'water', 'andenergy', 'security', 'climatechange', 'mitigation', 'boosting', 'sust']\n",
      "['great', 'oped', 'how', 'cascan', 'save', 'the', 'amazon', 'byvia']\n",
      "['i', 'love', 'aquatic', 'organisms', 'but', 'some', 'dont', 'love', 'us', 'much', 'or', 'maybe', 'like', 'us', 'waaaay', 'too', 'much', 'when', 'working', 'in', 'water', 'ways', 'for', 'restoration', 'or', 'cleanup', 'projects', 'human', 'health', 'is', 'a', 'priority', 'pay', 'attention', 'to', 'posted', 'notices', 'at', 'lakesponds', 'for', 'yourselfyour', 'water', 'loving', 'friend']\n",
      "['did', 'you', 'know', 'that', 'cigarettes', 'account', 'forof', 'ocean', 'trash', 'and', 'can', 'take', 'over', 'a', 'decade', 'to', 'decompose', 'beatplasticpol']\n",
      "['which', 'of', 'the', 'sdgs', 'focus', 'on', 'water', 'management', 'the', 'newesttells', 'you', 'all', 'about', 'them']\n",
      "['mr', 'john', 'bass', 'ambassador', 'to', 'afghanistan', 'atsharing', 'his', 'valuable', 'thoughts', 'at', 'nd', 'annual', 'passageprosperity', 'indiaafghanistantradeshow']\n",
      "['africas', 'decisions', 'will', 'make', 'or', 'break', 'climate', 'action', 'requiring', 'realworld', 'solutions', 'and', 'deliverable', 'agreement', 'according', 'to']\n",
      "['your', 'little', 'action', 'will', 'do', 'say', 'no', 'to', 'bush', 'burning', 'cutting', 'down', 'trees', 'without', 'planting', 'another']\n",
      "['join', 'us', 'onat', 'pm', 'et', 'ascofounder', 'allen', 'blue', 'sits', 'down', 'withpresidentto', 'discuss', 'the']\n"
     ]
    }
   ],
   "source": [
    "for i, tweet in enumerate(tweets[1:10]):\n",
    "    twt = tweets[i].split()\n",
    "    print(twt)"
   ]
  },
  {
   "cell_type": "code",
   "execution_count": null,
   "metadata": {},
   "outputs": [],
   "source": []
  }
 ],
 "metadata": {
  "kernelspec": {
   "display_name": "Python 3",
   "language": "python",
   "name": "python3"
  },
  "language_info": {
   "codemirror_mode": {
    "name": "ipython",
    "version": 3
   },
   "file_extension": ".py",
   "mimetype": "text/x-python",
   "name": "python",
   "nbconvert_exporter": "python",
   "pygments_lexer": "ipython3",
   "version": "3.6.5"
  }
 },
 "nbformat": 4,
 "nbformat_minor": 2
}
